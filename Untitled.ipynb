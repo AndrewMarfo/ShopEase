{
 "cells": [
  {
   "cell_type": "code",
   "execution_count": 11,
   "id": "38bbc3ae-bbf1-418a-a8cd-0ab20e7c4f8e",
   "metadata": {},
   "outputs": [],
   "source": [
    "# importing tools\n",
    "\n",
    "import pandas as pd\n",
    "import numpy as np\n",
    "import mysql.connector\n",
    "from mysql.connector import Error\n",
    "import matplotlib.pyplot as plt\n",
    "from db_config import config"
   ]
  },
  {
   "cell_type": "code",
   "execution_count": 13,
   "id": "f3f74447-5134-4323-ab3f-e697409c286c",
   "metadata": {},
   "outputs": [],
   "source": [
    "def prepare_dataframes(data_csv):\n",
    "    return pd.read_csv(data_csv)"
   ]
  },
  {
   "cell_type": "code",
   "execution_count": 15,
   "id": "6f5197e0-604d-4fb0-9fd6-695f48ec3cf7",
   "metadata": {},
   "outputs": [],
   "source": [
    "def check_data_quality(df):\n",
    "    print(\"\\nData quality checks:\")\n",
    "    print(\"NaN values:\\n\", df.isnull().sum())\n",
    "    print(\"Duplicate rows:\", df.duplicated().sum())"
   ]
  },
  {
   "cell_type": "code",
   "execution_count": 17,
   "id": "d046f5df-8bd5-4ee1-99c0-ff04332e917e",
   "metadata": {},
   "outputs": [],
   "source": [
    "def convert_to_date_objects(df, date_name):\n",
    "    df['year'] = df[date_name].dt.year\n",
    "    df['month'] = df[date_name].dt.month\n",
    "    df['day'] = df[date_name].dt.day"
   ]
  },
  {
   "cell_type": "code",
   "execution_count": 19,
   "id": "85a742f4-dfc8-4458-8ecb-29d181f36899",
   "metadata": {},
   "outputs": [],
   "source": [
    "def convert_date_object(df, column_name):\n",
    "    df[column_name] = pd.to_datetime(df[column_name])"
   ]
  },
  {
   "cell_type": "code",
   "execution_count": 31,
   "id": "89fcc5a9-e4b5-4c69-9c42-993183cbfeb0",
   "metadata": {},
   "outputs": [],
   "source": [
    "def monthly_sales_visualization(sales_data):\n",
    "    monthly_sales = sales_data.groupby(['year', 'month'])['total_revenue'].sum().reset_index()\n",
    "    plt.figure(figsize=(10, 5))\n",
    "    plt.plot(monthly_sales['month'], monthly_sales['total_revenue'], marker='o', linestyle='-')\n",
    "    plt.title('Monthly Sales Trend')\n",
    "    plt.xlabel('Month')\n",
    "    plt.ylabel('Total Revenue')\n",
    "    plt.xticks(rotation=45)\n",
    "    plt.grid()\n",
    "    plt.tight_layout()\n",
    "    plt.show()"
   ]
  },
  {
   "cell_type": "code",
   "execution_count": 21,
   "id": "ef6bbc54-161e-4213-b982-e7b0f9530c36",
   "metadata": {},
   "outputs": [],
   "source": [
    "def database_connection(host, user, password, database):\n",
    "    # Establish a connection to the MySQL database.\n",
    "    \n",
    "    try:\n",
    "        connection = mysql.connector.connect(\n",
    "            host=host,\n",
    "            user=user,\n",
    "            password=password,\n",
    "            database=database\n",
    "        )\n",
    "        if connection.is_connected():\n",
    "            print(\"Connected to the database.\")\n",
    "            return connection\n",
    "    except Error as e:\n",
    "        print(\"Error connecting to the database:\", e)\n",
    "        return None"
   ]
  },
  {
   "cell_type": "code",
   "execution_count": 35,
   "id": "3d92753d-6fd9-40a3-8413-2f2542cc07a5",
   "metadata": {},
   "outputs": [],
   "source": [
    "def insert_data_to_database(connection, sales_df, orders_df, products_df, customers_df):\n",
    "    # Insert DataFrame data into Mysql database\n",
    "    insert_sales_query = \"\"\"\n",
    "        INSERT INTO sales_data (order_id, customer_id, order_date, product_id, \n",
    "                                quantity, product_name, category, price, customer_name,\n",
    "                                email, total_revenue, year, month, day)\n",
    "        VALUES (%s, %s, %s, %s, %s, %s, %s, %s, %s, %s, %s, %s, %s, %s)\n",
    "    \"\"\"\n",
    "    insert_orders_query = \"\"\"\n",
    "        INSERT INTO orders (order_id, customer_id, order_date, product_id, quantity) \n",
    "        VALUES (%s, %s, %s, %s, %s)\n",
    "    \"\"\"\n",
    "    insert_products_query = \"\"\"\n",
    "        INSERT INTO products (product_id, product_name, category, price) \n",
    "        VALUES (%s, %s, %s, %s)\n",
    "    \"\"\"\n",
    "    insert_customers_query = \"\"\"\n",
    "        INSERT INTO customers (customer_id, customer_name, email, join_date) \n",
    "        VALUES (%s, %s, %s, %s)\n",
    "    \"\"\"\n",
    "    \n",
    "    cursor = connection.cursor()\n",
    "    try:\n",
    "        # insert data into data_sales table\n",
    "        for index, row in sales_df.iterrows():\n",
    "            cursor.execute(insert_sales_query, (\n",
    "                row[\"order_id\"], row[\"customer_id\"], row[\"order_date\"], row[\"product_id\"],\n",
    "                row[\"quantity\"], row[\"product_name\"], row[\"category\"], row[\"price\"], row[\"customer_name\"],\n",
    "                row[\"email\"], row[\"total_revenue\"], row[\"year\"], row[\"month\"], row[\"day\"]\n",
    "            ))\n",
    "\n",
    "        # insert data into orders table\n",
    "        for index, row in orders_df.iterrows():\n",
    "            cursor.execute(insert_orders_query, (\n",
    "                row[\"order_id\"], row[\"customer_id\"], row[\"order_date\"], row[\"product_id\"], row[\"quantity\"]\n",
    "            ))\n",
    "\n",
    "        # Insert data into products table\n",
    "        for index, row in products_df.iterrows():\n",
    "            cursor.execute(insert_products_query, (\n",
    "                row[\"product_id\"], row[\"product_name\"], row[\"category\"], row[\"price\"]\n",
    "            ))\n",
    "            \n",
    "        # Insert data into customers table\n",
    "        for index, row in customers_df.iterrows():\n",
    "            cursor.execute(insert_customers_query, (\n",
    "                row[\"customer_id\"], row[\"customer_name\"], row[\"email\"], row[\"join_date\"]\n",
    "            ))\n",
    "        connection.commit()\n",
    "        print(\"Data inserted successfully.\")\n",
    "    except Error as e:\n",
    "        print(\"Failed to insert data:\", e)\n",
    "        connection.rollback()\n",
    "    finally:\n",
    "        cursor.close()"
   ]
  },
  {
   "cell_type": "code",
   "execution_count": 37,
   "id": "acae4886-44d7-471f-a5a2-79b7eb0e6b77",
   "metadata": {},
   "outputs": [
    {
     "name": "stdout",
     "output_type": "stream",
     "text": [
      "localhost\n",
      "\n",
      "Data quality checks:\n",
      "NaN values:\n",
      " order_id         0\n",
      "customer_id      0\n",
      "order_date       0\n",
      "product_id       0\n",
      "quantity         0\n",
      "product_name     0\n",
      "category         0\n",
      "price            0\n",
      "customer_name    0\n",
      "email            0\n",
      "dtype: int64\n",
      "Duplicate rows: 0\n",
      "   order_id  customer_id order_date  product_id  quantity product_name  \\\n",
      "0         1           20 2024-11-01           3         2       Tablet   \n",
      "1         2           36 2024-11-01           1         1       Laptop   \n",
      "2         3            1 2024-11-01           8         3   Headphones   \n",
      "3         4           36 2024-11-02           6         1   Smartwatch   \n",
      "4         5           14 2024-11-02          12         2         Desk   \n",
      "\n",
      "      category   price  customer_name              email  total_revenue  year  \\\n",
      "0  Electronics   450.0     Tina Young   tina@example.com          900.0  2024   \n",
      "1  Electronics  1200.0   James Walker  james@example.com         1200.0  2024   \n",
      "2  Electronics   150.0  Alice Johnson  alice@example.com          450.0  2024   \n",
      "3  Electronics   200.0   James Walker  james@example.com          200.0  2024   \n",
      "4    Furniture   300.0  Nina Mitchell   nina@example.com          600.0  2024   \n",
      "\n",
      "   month  day  \n",
      "0     11    1  \n",
      "1     11    1  \n",
      "2     11    1  \n",
      "3     11    2  \n",
      "4     11    2  \n"
     ]
    },
    {
     "data": {
      "image/png": "[encoded data removed]",
      "text/plain": [
       "<Figure size 1000x500 with 1 Axes>"
      ]
     },
     "metadata": {},
     "output_type": "display_data"
    },
    {
     "name": "stdout",
     "output_type": "stream",
     "text": [
      "Connected to the database.\n",
      "Data inserted successfully.\n",
      "database connection closed\n"
     ]
    }
   ],
   "source": [
    "def main():\n",
    "    # load csv's into dataframes\n",
    "    orders_df = prepare_dataframes(\"Orders.csv\")\n",
    "    products_df =  prepare_dataframes(\"products.csv\")\n",
    "    customers_df =  prepare_dataframes(\"customers.csv\")\n",
    "\n",
    "    print(config[\"host\"])\n",
    "\n",
    "    # rename Cutomer_id column name to customer_id\n",
    "    orders_df.rename(columns = {\"Cutomer_id\":\"customer_id\"}, inplace=True)\n",
    "\n",
    "    # merging orders and products df\n",
    "    sales = pd.merge(orders_df,  products_df, on=\"product_id\", how =  \"inner\")\n",
    "\n",
    "    # merging sales and customers df\n",
    "    sales_data = pd.merge(sales, customers_df, on=\"customer_id\", how=\"inner\")\n",
    "\n",
    "    # drop join_data column (not needed in our sales data)\n",
    "    sales_data.drop([\"join_date\"] ,axis=1, inplace=True)\n",
    "\n",
    "    # checks for missing value and dupicates\n",
    "    check_data_quality(sales_data)\n",
    "\n",
    "    # convert order_date object to date object\n",
    "    convert_date_object(sales_data, \"order_date\")\n",
    "    convert_date_object(customers_df, \"join_date\")\n",
    "    convert_date_object(orders_df, \"order_date\")\n",
    "\n",
    "    #  total revenue for each order\n",
    "    sales_data[\"total_revenue\"] = sales_data[\"quantity\"] * sales_data[\"price\"]\n",
    "\n",
    "    # order date breakdown ( year, month, day)\n",
    "    convert_to_date_objects(sales_data, \"order_date\")\n",
    "\n",
    "    print(sales_data.head())\n",
    "\n",
    "    # monthly sales visualization\n",
    "    monthly_sales_visualization(sales_data)\n",
    "\n",
    "    # connecting to the database\n",
    "    db_params = {\n",
    "        \"host\": config[\"host\"],\n",
    "        \"user\": config[\"user\"],\n",
    "        \"password\": config[\"password\"],\n",
    "        \"database\": config[\"database\"]\n",
    "    }\n",
    "    connection = database_connection(**db_params)\n",
    "    if connection.is_connected():\n",
    "        insert_data_to_database(connection, sales_data, orders_df, products_df, customers_df)\n",
    "        connection.close()\n",
    "        print(\"database connection closed\")\n",
    "\n",
    "if __name__ == \"__main__\":\n",
    "    main()"
   ]
  },
  {
   "cell_type": "code",
   "execution_count": 27,
   "id": "a5e49814-6adf-4918-80be-44b64b079f26",
   "metadata": {},
   "outputs": [
    {
     "name": "stdout",
     "output_type": "stream",
     "text": [
      "Connected to the database.\n"
     ]
    },
    {
     "ename": "MySQLInterfaceError",
     "evalue": "Python type numpy.int64 cannot be converted",
     "output_type": "error",
     "traceback": [
      "\u001b[1;31m---------------------------------------------------------------------------\u001b[0m",
      "\u001b[1;31mMySQLInterfaceError\u001b[0m                       Traceback (most recent call last)",
      "Cell \u001b[1;32mIn[27], line 22\u001b[0m\n\u001b[0;32m     20\u001b[0m cursor \u001b[38;5;241m=\u001b[39m connection\u001b[38;5;241m.\u001b[39mcursor()\n\u001b[0;32m     21\u001b[0m \u001b[38;5;28;01mfor\u001b[39;00m index, row \u001b[38;5;129;01min\u001b[39;00m order_items_df\u001b[38;5;241m.\u001b[39miterrows():\n\u001b[1;32m---> 22\u001b[0m     cursor\u001b[38;5;241m.\u001b[39mexecute(insert_order_items_query, (\n\u001b[0;32m     23\u001b[0m         row[\u001b[38;5;124m'\u001b[39m\u001b[38;5;124morder_detail_id\u001b[39m\u001b[38;5;124m'\u001b[39m], row[\u001b[38;5;124m'\u001b[39m\u001b[38;5;124morder_id\u001b[39m\u001b[38;5;124m'\u001b[39m],\n\u001b[0;32m     24\u001b[0m         row[\u001b[38;5;124m'\u001b[39m\u001b[38;5;124mquantity\u001b[39m\u001b[38;5;124m'\u001b[39m], row[\u001b[38;5;124m'\u001b[39m\u001b[38;5;124mproduct_id\u001b[39m\u001b[38;5;124m'\u001b[39m]\n\u001b[0;32m     25\u001b[0m     ))\n\u001b[0;32m     27\u001b[0m \u001b[38;5;28;01mfor\u001b[39;00m index, row \u001b[38;5;129;01min\u001b[39;00m suppliers_df\u001b[38;5;241m.\u001b[39miterrows():\n\u001b[0;32m     28\u001b[0m     cursor\u001b[38;5;241m.\u001b[39mexecute(insert_suppliers_query, (\n\u001b[0;32m     29\u001b[0m         row[\u001b[38;5;124m'\u001b[39m\u001b[38;5;124msupplier_name\u001b[39m\u001b[38;5;124m'\u001b[39m], row[\u001b[38;5;124m'\u001b[39m\u001b[38;5;124msupplier_address\u001b[39m\u001b[38;5;124m'\u001b[39m], row[\u001b[38;5;124m'\u001b[39m\u001b[38;5;124memail\u001b[39m\u001b[38;5;124m'\u001b[39m],\n\u001b[0;32m     30\u001b[0m         row[\u001b[38;5;124m'\u001b[39m\u001b[38;5;124mcontact_number\u001b[39m\u001b[38;5;124m'\u001b[39m], row[\u001b[38;5;124m'\u001b[39m\u001b[38;5;124mfax\u001b[39m\u001b[38;5;124m'\u001b[39m], row[\u001b[38;5;124m'\u001b[39m\u001b[38;5;124maccount_number\u001b[39m\u001b[38;5;124m'\u001b[39m], row[\u001b[38;5;124m'\u001b[39m\u001b[38;5;124morder_history\u001b[39m\u001b[38;5;124m'\u001b[39m],\n\u001b[0;32m     31\u001b[0m         row[\u001b[38;5;124m'\u001b[39m\u001b[38;5;124mcontract\u001b[39m\u001b[38;5;124m'\u001b[39m], row[\u001b[38;5;124m'\u001b[39m\u001b[38;5;124msupplier_country\u001b[39m\u001b[38;5;124m'\u001b[39m], row[\u001b[38;5;124m'\u001b[39m\u001b[38;5;124msupplier_city\u001b[39m\u001b[38;5;124m'\u001b[39m], row[\u001b[38;5;124m'\u001b[39m\u001b[38;5;124mcountry_code\u001b[39m\u001b[38;5;124m'\u001b[39m]\n\u001b[0;32m     32\u001b[0m     ))\n",
      "File \u001b[1;32m~\\anaconda3\\Lib\\site-packages\\mysql\\connector\\cursor_cext.py:345\u001b[0m, in \u001b[0;36mCMySQLCursor.execute\u001b[1;34m(self, operation, params, multi)\u001b[0m\n\u001b[0;32m    342\u001b[0m     \u001b[38;5;28;01mraise\u001b[39;00m ProgrammingError(\u001b[38;5;28mstr\u001b[39m(err)) \u001b[38;5;28;01mfrom\u001b[39;00m \u001b[38;5;21;01merr\u001b[39;00m\n\u001b[0;32m    344\u001b[0m \u001b[38;5;28;01mif\u001b[39;00m params:\n\u001b[1;32m--> 345\u001b[0m     prepared \u001b[38;5;241m=\u001b[39m \u001b[38;5;28mself\u001b[39m\u001b[38;5;241m.\u001b[39m_connection\u001b[38;5;241m.\u001b[39mprepare_for_mysql(params)\n\u001b[0;32m    346\u001b[0m     \u001b[38;5;28;01mif\u001b[39;00m \u001b[38;5;28misinstance\u001b[39m(prepared, \u001b[38;5;28mdict\u001b[39m):\n\u001b[0;32m    347\u001b[0m         stmt \u001b[38;5;241m=\u001b[39m _bytestr_format_dict(stmt, prepared)\n",
      "File \u001b[1;32m~\\anaconda3\\Lib\\site-packages\\mysql\\connector\\connection_cext.py:878\u001b[0m, in \u001b[0;36mCMySQLConnection.prepare_for_mysql\u001b[1;34m(self, params)\u001b[0m\n\u001b[0;32m    869\u001b[0m         result \u001b[38;5;241m=\u001b[39m [\n\u001b[0;32m    870\u001b[0m             \u001b[38;5;28mself\u001b[39m\u001b[38;5;241m.\u001b[39mconverter\u001b[38;5;241m.\u001b[39mquote(\n\u001b[0;32m    871\u001b[0m                 \u001b[38;5;28mself\u001b[39m\u001b[38;5;241m.\u001b[39mconverter\u001b[38;5;241m.\u001b[39mescape(\n\u001b[1;32m   (...)\u001b[0m\n\u001b[0;32m    875\u001b[0m             \u001b[38;5;28;01mfor\u001b[39;00m value \u001b[38;5;129;01min\u001b[39;00m params\n\u001b[0;32m    876\u001b[0m         ]\n\u001b[0;32m    877\u001b[0m     \u001b[38;5;28;01melse\u001b[39;00m:\n\u001b[1;32m--> 878\u001b[0m         result \u001b[38;5;241m=\u001b[39m \u001b[38;5;28mself\u001b[39m\u001b[38;5;241m.\u001b[39m_cmysql\u001b[38;5;241m.\u001b[39mconvert_to_mysql(\u001b[38;5;241m*\u001b[39mparams)\n\u001b[0;32m    879\u001b[0m \u001b[38;5;28;01melif\u001b[39;00m \u001b[38;5;28misinstance\u001b[39m(params, \u001b[38;5;28mdict\u001b[39m):\n\u001b[0;32m    880\u001b[0m     result \u001b[38;5;241m=\u001b[39m {}\n",
      "\u001b[1;31mMySQLInterfaceError\u001b[0m: Python type numpy.int64 cannot be converted"
     ]
    }
   ],
   "source": [
    "order_items_df = prepare_dataframes(\"order_items.csv\")\n",
    "suppliers_df = prepare_dataframes(\"suppliers_data.csv\")\n",
    "db_params = {\n",
    "        \"host\": config[\"host\"],\n",
    "        \"user\": config[\"user\"],\n",
    "        \"password\": config[\"password\"],\n",
    "        \"database\": config[\"database\"]\n",
    "    }\n",
    "connection = database_connection(**db_params)\n",
    "if connection.is_connected():\n",
    "    insert_order_items_query = \"\"\"\n",
    "        INSERT INTO order_items (order_detail_id, order_id, quantity, product_id)\n",
    "        VALUES (%s, %s, %s, %s)\n",
    "    \"\"\"\n",
    "    insert_suppliers_query = \"\"\"\n",
    "        INSERT INTO suppliers (supplier_name, supplier_address, email, contact_number, fax, account_number, order_history, \n",
    "                                contract, supplier_country, supplier_city, country_code)\n",
    "        VALUES (%s, %s, %s, %s, %s, %s, %s, %s, %s, %s, %s,)\n",
    "    \"\"\"\n",
    "    cursor = connection.cursor()\n",
    "    for index, row in order_items_df.iterrows():\n",
    "        cursor.execute(insert_order_items_query, (\n",
    "            row['order_detail_id'], row['order_id'],\n",
    "            row['quantity'], row['product_id']\n",
    "        ))\n",
    "\n",
    "    for index, row in suppliers_df.iterrows():\n",
    "        cursor.execute(insert_suppliers_query, (\n",
    "            row['supplier_name'], row['supplier_address'], row['email'],\n",
    "            row['contact_number'], row['fax'], row['account_number'], row['order_history'],\n",
    "            row['contract'], row['supplier_country'], row['supplier_city'], row['country_code']\n",
    "        ))\n",
    "\n",
    "    connection.commit()\n",
    "    \n",
    "        # Close the cursor and connection\n",
    "    cursor.close()\n",
    "    connection.close()\n",
    "\n",
    "    print(\"Data inserted successfully into order_items and suppliers tables.\")\n",
    "else:\n",
    "    print(\"Failed to connect to the database.\")"
   ]
  },
  {
   "cell_type": "code",
   "execution_count": null,
   "id": "0144231d-0535-44c9-8e76-5d74754f008e",
   "metadata": {},
   "outputs": [],
   "source": []
  }
 ],
 "metadata": {
  "kernelspec": {
   "display_name": "Python 3 (ipykernel)",
   "language": "python",
   "name": "python3"
  },
  "language_info": {
   "codemirror_mode": {
    "name": "ipython",
    "version": 3
   },
   "file_extension": ".py",
   "mimetype": "text/x-python",
   "name": "python",
   "nbconvert_exporter": "python",
   "pygments_lexer": "ipython3",
   "version": "3.12.7"
  }
 },
 "nbformat": 4,
 "nbformat_minor": 5
}
